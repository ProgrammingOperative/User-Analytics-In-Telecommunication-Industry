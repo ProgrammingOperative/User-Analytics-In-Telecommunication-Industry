{
 "cells": [
  {
   "cell_type": "code",
   "execution_count": 6,
   "id": "271ad76d",
   "metadata": {},
   "outputs": [],
   "source": [
    "import pandas as pd\n",
    "import seaborn as sns\n",
    "import matplotlib.pyplot as plt\n",
    "import numpy as np\n",
    "from sklearn.cluster import KMeans"
   ]
  },
  {
   "cell_type": "code",
   "execution_count": 7,
   "id": "12ada00e",
   "metadata": {},
   "outputs": [
    {
     "name": "stdout",
     "output_type": "stream",
     "text": [
      "<class 'pandas.core.frame.DataFrame'>\n",
      "RangeIndex: 150001 entries, 0 to 150000\n",
      "Data columns (total 55 columns):\n",
      " #   Column                                    Non-Null Count   Dtype  \n",
      "---  ------                                    --------------   -----  \n",
      " 0   Bearer_Id                                 150001 non-null  float64\n",
      " 1   Start                                     150001 non-null  object \n",
      " 2   Start_ms                                  150001 non-null  float64\n",
      " 3   End                                       150001 non-null  object \n",
      " 4   End_ms                                    150001 non-null  float64\n",
      " 5   Dur_ms                                    150001 non-null  float64\n",
      " 6   IMSI                                      150001 non-null  float64\n",
      " 7   MSISDN_Number                             150001 non-null  float64\n",
      " 8   IMEI                                      150001 non-null  float64\n",
      " 9   Last_Location_Name                        150001 non-null  object \n",
      " 10  Avg_RTT_DL_(ms)                           150001 non-null  float64\n",
      " 11  Avg_RTT_UL_(ms)                           150001 non-null  float64\n",
      " 12  Avg_Bearer_TP_DL_(kbps)                   150001 non-null  float64\n",
      " 13  Avg_Bearer_TP_UL_(kbps)                   150001 non-null  float64\n",
      " 14  TCP_DL_Retrans_Vol_(Bytes)                150001 non-null  float64\n",
      " 15  TCP_UL_Retrans_Vol_(Bytes)                150001 non-null  float64\n",
      " 16  DL_TP_<_50_Kbps_(%)                       150001 non-null  float64\n",
      " 17  50_Kbps_<_DL_TP_<_250_Kbps_(%)            150001 non-null  float64\n",
      " 18  250_Kbps_<_DL_TP_<_1_Mbps_(%)             150001 non-null  float64\n",
      " 19  DL_TP_>_1_Mbps_(%)                        150001 non-null  float64\n",
      " 20  UL_TP_<_10_Kbps_(%)                       150001 non-null  float64\n",
      " 21  10_Kbps_<_UL_TP_<_50_Kbps_(%)             150001 non-null  float64\n",
      " 22  50_Kbps_<_UL_TP_<_300_Kbps_(%)            150001 non-null  float64\n",
      " 23  UL_TP_>_300_Kbps_(%)                      150001 non-null  float64\n",
      " 24  HTTP_DL_(Bytes)                           150001 non-null  float64\n",
      " 25  HTTP_UL_(Bytes)                           150001 non-null  float64\n",
      " 26  Activity_Duration_DL_(ms)                 150001 non-null  float64\n",
      " 27  Activity_Duration_UL_(ms)                 150001 non-null  float64\n",
      " 28  Dur_(ms)_1                                150001 non-null  float64\n",
      " 29  Handset_Manufacturer                      150001 non-null  object \n",
      " 30  Handset_Type                              150001 non-null  object \n",
      " 31  Nb_of_sec_with_125000B_<_Vol_DL           150001 non-null  float64\n",
      " 32  Nb_of_sec_with_1250B_<_Vol_UL_<_6250B     150001 non-null  float64\n",
      " 33  Nb_of_sec_with_31250B_<_Vol_DL_<_125000B  150001 non-null  float64\n",
      " 34  Nb_of_sec_with_37500B_<_Vol UL            150001 non-null  float64\n",
      " 35  Nb_of_sec_with_6250B_<_Vol_DL_<_31250B    150001 non-null  float64\n",
      " 36  Nb_of_sec_with_6250B_<_Vol_UL_<_37500B    150001 non-null  float64\n",
      " 37  Nb_of_sec_with_Vol_DL_<_6250B             150001 non-null  float64\n",
      " 38  Nb_of_sec_with_Vol_UL_<_1250B             150001 non-null  float64\n",
      " 39  Social_Media_DL_(Bytes)                   150001 non-null  float64\n",
      " 40  Social_Media_UL_(Bytes)                   150001 non-null  float64\n",
      " 41  Google_DL_(Bytes)                         150001 non-null  float64\n",
      " 42  Google_UL_(Bytes)                         150001 non-null  float64\n",
      " 43  Email_DL(Bytes)                           150001 non-null  float64\n",
      " 44  Email_UL(Bytes)                           150001 non-null  float64\n",
      " 45  Youtube_DL_(Bytes)                        150001 non-null  float64\n",
      " 46  Youtube_UL_(Bytes)                        150001 non-null  float64\n",
      " 47  Netflix_DL_(Bytes)                        150001 non-null  float64\n",
      " 48  Netflix_UL_(Bytes)                        150001 non-null  float64\n",
      " 49  Gaming_DL_(Bytes)                         150001 non-null  float64\n",
      " 50  Gaming_UL_(Bytes)                         150001 non-null  float64\n",
      " 51  Other_DL_(Bytes)                          150001 non-null  float64\n",
      " 52  Other_UL_(Bytes)                          150001 non-null  float64\n",
      " 53  Total_UL_(Bytes)                          150001 non-null  float64\n",
      " 54  Total_DL_(Bytes)                          150001 non-null  float64\n",
      "dtypes: float64(50), object(5)\n",
      "memory usage: 62.9+ MB\n"
     ]
    }
   ],
   "source": [
    "data = pd.read_csv(\"../data/clean_data.csv\")\n",
    "data.info()"
   ]
  },
  {
   "cell_type": "code",
   "execution_count": 9,
   "id": "b4f023ab",
   "metadata": {},
   "outputs": [
    {
     "data": {
      "text/plain": [
       "0           1\n",
       "1           1\n",
       "2           1\n",
       "3           1\n",
       "4           1\n",
       "         ... \n",
       "149996      1\n",
       "149997      1\n",
       "149998      2\n",
       "149999      2\n",
       "150000    991\n",
       "Name: Session frequency, Length: 150001, dtype: int64"
      ]
     },
     "execution_count": 9,
     "metadata": {},
     "output_type": "execute_result"
    }
   ],
   "source": [
    "#Creating the frequency variable\n",
    "data['Session frequency'] = data.groupby(['Bearer_Id'])['Dur_ms'].transform('count')\n",
    "data['Session frequency']"
   ]
  }
 ],
 "metadata": {
  "kernelspec": {
   "display_name": "10_acad",
   "language": "python",
   "name": "10_acad"
  },
  "language_info": {
   "codemirror_mode": {
    "name": "ipython",
    "version": 3
   },
   "file_extension": ".py",
   "mimetype": "text/x-python",
   "name": "python",
   "nbconvert_exporter": "python",
   "pygments_lexer": "ipython3",
   "version": "3.6.13"
  }
 },
 "nbformat": 4,
 "nbformat_minor": 5
}
